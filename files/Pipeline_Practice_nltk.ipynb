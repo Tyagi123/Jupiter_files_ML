{
 "cells": [
  {
   "cell_type": "code",
   "execution_count": 127,
   "metadata": {},
   "outputs": [],
   "source": [
    "from sklearn.pipeline import Pipeline,FeatureUnion,make_pipeline"
   ]
  },
  {
   "cell_type": "code",
   "execution_count": 128,
   "metadata": {},
   "outputs": [],
   "source": [
    "import pandas as pd\n",
    "spam=pd.read_csv('/Users/gauravtyagi/Downloads/data/spam.csv',encoding='latin-1')"
   ]
  },
  {
   "cell_type": "code",
   "execution_count": 129,
   "metadata": {},
   "outputs": [],
   "source": [
    "spam_feature=spam.v2\n",
    "spam_label=spam.v1"
   ]
  },
  {
   "cell_type": "code",
   "execution_count": 130,
   "metadata": {},
   "outputs": [],
   "source": [
    "from sklearn.preprocessing  import LabelEncoder\n",
    "encoder=LabelEncoder()"
   ]
  },
  {
   "cell_type": "code",
   "execution_count": 131,
   "metadata": {},
   "outputs": [],
   "source": [
    "spam_label=encoder.fit_transform(spam_label)"
   ]
  },
  {
   "cell_type": "code",
   "execution_count": 132,
   "metadata": {},
   "outputs": [],
   "source": [
    "from sklearn.base import BaseEstimator,TransformerMixin\n",
    "from nltk.stem import SnowballStemmer"
   ]
  },
  {
   "cell_type": "code",
   "execution_count": 133,
   "metadata": {},
   "outputs": [],
   "source": [
    "from nltk.tokenize import RegexpTokenizer"
   ]
  },
  {
   "cell_type": "code",
   "execution_count": 134,
   "metadata": {},
   "outputs": [],
   "source": [
    "class Mytransformer (BaseEstimator,TransformerMixin):\n",
    "    def __init__(self):\n",
    "         self.stemmer=SnowballStemmer(language='english')\n",
    "         self.tokenizer=RegexpTokenizer(r'[a-zA-Z]+')\n",
    "        \n",
    "    def fit(self,x,y=0):\n",
    "        return x\n",
    "    \n",
    "    def transform(self,x,y=0):\n",
    "        x=x.map(lambda x: self.tokenizer.tokenize(x))\n",
    "        x=x.map(lambda x: ''.join([self.stemmer.stem(word) for word in x]))\n",
    "        return x\n",
    "    \n",
    "    def fit_transform(self,x,y=0):\n",
    "        x=x.map(lambda x: self.tokenizer.tokenize(x))\n",
    "        x=x.map(lambda x: ''.join([self.stemmer.stem(word) for word in x]))\n",
    "        return x"
   ]
  },
  {
   "cell_type": "code",
   "execution_count": 135,
   "metadata": {},
   "outputs": [],
   "source": [
    "model=Mytransformer()"
   ]
  },
  {
   "cell_type": "code",
   "execution_count": 136,
   "metadata": {},
   "outputs": [],
   "source": [
    "spam_feature=model.transform(spam_feature)"
   ]
  },
  {
   "cell_type": "code",
   "execution_count": 137,
   "metadata": {},
   "outputs": [],
   "source": [
    "from sklearn.feature_extraction.text import CountVectorizer,TfidfVectorizer,HashingVectorizer\n"
   ]
  },
  {
   "cell_type": "code",
   "execution_count": 138,
   "metadata": {},
   "outputs": [],
   "source": [
    "from sklearn.naive_bayes import MultinomialNB,BernoulliNB\n"
   ]
  },
  {
   "cell_type": "code",
   "execution_count": 139,
   "metadata": {},
   "outputs": [],
   "source": [
    "pipes=[]"
   ]
  },
  {
   "cell_type": "code",
   "execution_count": 140,
   "metadata": {},
   "outputs": [],
   "source": [
    "pipes.append(make_pipeline(Mytransformer(),CountVectorizer(stop_words='english'),MultinomialNB()))"
   ]
  },
  {
   "cell_type": "code",
   "execution_count": 141,
   "metadata": {},
   "outputs": [],
   "source": [
    "pipes.append(make_pipeline(Mytransformer(),TfidfVectorizer(),MultinomialNB()))"
   ]
  },
  {
   "cell_type": "code",
   "execution_count": 142,
   "metadata": {},
   "outputs": [],
   "source": [
    "#pipes.append(make_pipeline(Mytransformer(),HashingVectorizer(),MultinomialNB()))"
   ]
  },
  {
   "cell_type": "code",
   "execution_count": 143,
   "metadata": {},
   "outputs": [],
   "source": [
    "pipes.append(make_pipeline(Mytransformer(),CountVectorizer(stop_words='english'),BernoulliNB()))\n"
   ]
  },
  {
   "cell_type": "code",
   "execution_count": 144,
   "metadata": {},
   "outputs": [],
   "source": [
    "pipes.append(make_pipeline(Mytransformer(),TfidfVectorizer(),BernoulliNB()))"
   ]
  },
  {
   "cell_type": "code",
   "execution_count": 145,
   "metadata": {},
   "outputs": [],
   "source": [
    "pipes.append(make_pipeline(Mytransformer(),HashingVectorizer(),BernoulliNB()))"
   ]
  },
  {
   "cell_type": "code",
   "execution_count": 146,
   "metadata": {},
   "outputs": [
    {
     "name": "stdout",
     "output_type": "stream",
     "text": [
      "0.8806532663316583\n",
      "0.8806532663316583\n",
      "0.8659368269921034\n",
      "0.8659368269921034\n",
      "0.8659368269921034\n"
     ]
    }
   ],
   "source": [
    "for pipe in pipes:\n",
    "    pipe.fit(spam_feature,spam_label)\n",
    "    print(pipe.score(spam_feature,spam_label))"
   ]
  },
  {
   "cell_type": "code",
   "execution_count": null,
   "metadata": {},
   "outputs": [],
   "source": []
  }
 ],
 "metadata": {
  "kernelspec": {
   "display_name": "Python 3",
   "language": "python",
   "name": "python3"
  },
  "language_info": {
   "codemirror_mode": {
    "name": "ipython",
    "version": 3
   },
   "file_extension": ".py",
   "mimetype": "text/x-python",
   "name": "python",
   "nbconvert_exporter": "python",
   "pygments_lexer": "ipython3",
   "version": "3.6.8"
  }
 },
 "nbformat": 4,
 "nbformat_minor": 2
}
