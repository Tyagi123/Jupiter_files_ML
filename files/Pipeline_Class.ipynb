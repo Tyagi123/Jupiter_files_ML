{
 "cells": [
  {
   "cell_type": "code",
   "execution_count": 144,
   "metadata": {},
   "outputs": [],
   "source": [
    "from sklearn.pipeline import Pipeline,FeatureUnion,make_pipeline"
   ]
  },
  {
   "cell_type": "code",
   "execution_count": 145,
   "metadata": {},
   "outputs": [],
   "source": [
    "from sklearn.datasets import load_breast_cancer"
   ]
  },
  {
   "cell_type": "code",
   "execution_count": 146,
   "metadata": {},
   "outputs": [],
   "source": [
    "ds=load_breast_cancer()"
   ]
  },
  {
   "cell_type": "code",
   "execution_count": 147,
   "metadata": {},
   "outputs": [],
   "source": [
    "fetaure=ds.data\n",
    "label=ds.target"
   ]
  },
  {
   "cell_type": "code",
   "execution_count": 148,
   "metadata": {},
   "outputs": [],
   "source": [
    "from sklearn.preprocessing import MinMaxScaler, StandardScaler"
   ]
  },
  {
   "cell_type": "code",
   "execution_count": 149,
   "metadata": {},
   "outputs": [],
   "source": [
    "from sklearn.linear_model import LogisticRegression"
   ]
  },
  {
   "cell_type": "code",
   "execution_count": 150,
   "metadata": {},
   "outputs": [],
   "source": [
    "pipe = Pipeline([('scaling',MinMaxScaler()),\n",
    "                 ('logistic',LogisticRegression())])"
   ]
  },
  {
   "cell_type": "code",
   "execution_count": 151,
   "metadata": {},
   "outputs": [
    {
     "name": "stderr",
     "output_type": "stream",
     "text": [
      "/Users/gauravtyagi/anaconda3/lib/python3.6/site-packages/sklearn/linear_model/logistic.py:433: FutureWarning: Default solver will be changed to 'lbfgs' in 0.22. Specify a solver to silence this warning.\n",
      "  FutureWarning)\n"
     ]
    },
    {
     "data": {
      "text/plain": [
       "Pipeline(memory=None,\n",
       "     steps=[('scaling', MinMaxScaler(copy=True, feature_range=(0, 1))), ('logistic', LogisticRegression(C=1.0, class_weight=None, dual=False, fit_intercept=True,\n",
       "          intercept_scaling=1, max_iter=100, multi_class='warn',\n",
       "          n_jobs=None, penalty='l2', random_state=None, solver='warn',\n",
       "          tol=0.0001, verbose=0, warm_start=False))])"
      ]
     },
     "execution_count": 151,
     "metadata": {},
     "output_type": "execute_result"
    }
   ],
   "source": [
    "pipe.fit(fetaure,label)"
   ]
  },
  {
   "cell_type": "code",
   "execution_count": 152,
   "metadata": {},
   "outputs": [
    {
     "data": {
      "text/plain": [
       "0.9666080843585237"
      ]
     },
     "execution_count": 152,
     "metadata": {},
     "output_type": "execute_result"
    }
   ],
   "source": [
    "pipe.score(fetaure,label)"
   ]
  },
  {
   "cell_type": "code",
   "execution_count": 153,
   "metadata": {},
   "outputs": [],
   "source": [
    "pipe1 = Pipeline([('maxscaling',MinMaxScaler())])"
   ]
  },
  {
   "cell_type": "code",
   "execution_count": 154,
   "metadata": {},
   "outputs": [],
   "source": [
    "pipe2 = Pipeline([('stdscaling',StandardScaler())])"
   ]
  },
  {
   "cell_type": "code",
   "execution_count": 155,
   "metadata": {},
   "outputs": [],
   "source": [
    "fu=FeatureUnion([('pipe1',pipe1),('pipe2',pipe2)])"
   ]
  },
  {
   "cell_type": "code",
   "execution_count": 156,
   "metadata": {},
   "outputs": [],
   "source": [
    "finalpipe=Pipeline([\n",
    "    ('fu',fu),\n",
    "    ('regressior',LogisticRegression())\n",
    "])"
   ]
  },
  {
   "cell_type": "code",
   "execution_count": 157,
   "metadata": {},
   "outputs": [
    {
     "name": "stderr",
     "output_type": "stream",
     "text": [
      "/Users/gauravtyagi/anaconda3/lib/python3.6/site-packages/sklearn/linear_model/logistic.py:433: FutureWarning: Default solver will be changed to 'lbfgs' in 0.22. Specify a solver to silence this warning.\n",
      "  FutureWarning)\n"
     ]
    },
    {
     "data": {
      "text/plain": [
       "Pipeline(memory=None,\n",
       "     steps=[('fu', FeatureUnion(n_jobs=None,\n",
       "       transformer_list=[('pipe1', Pipeline(memory=None,\n",
       "     steps=[('maxscaling', MinMaxScaler(copy=True, feature_range=(0, 1)))])), ('pipe2', Pipeline(memory=None,\n",
       "     steps=[('stdscaling', StandardScaler(copy=True, with_mean=True, with_std=True))]))],\n",
       "   ...penalty='l2', random_state=None, solver='warn',\n",
       "          tol=0.0001, verbose=0, warm_start=False))])"
      ]
     },
     "execution_count": 157,
     "metadata": {},
     "output_type": "execute_result"
    }
   ],
   "source": [
    "finalpipe.fit(fetaure,label)"
   ]
  },
  {
   "cell_type": "code",
   "execution_count": 158,
   "metadata": {},
   "outputs": [
    {
     "data": {
      "text/plain": [
       "0.9876977152899824"
      ]
     },
     "execution_count": 158,
     "metadata": {},
     "output_type": "execute_result"
    }
   ],
   "source": [
    "finalpipe.score(fetaure,label)"
   ]
  },
  {
   "cell_type": "code",
   "execution_count": 159,
   "metadata": {},
   "outputs": [],
   "source": [
    "import pandas as pd\n",
    "spam=pd.read_csv('/Users/gauravtyagi/Downloads/data/spam.csv',encoding='latin-1')"
   ]
  },
  {
   "cell_type": "code",
   "execution_count": 160,
   "metadata": {},
   "outputs": [],
   "source": [
    "spam_feature=spam.v2\n",
    "spam_label=spam.v1"
   ]
  },
  {
   "cell_type": "code",
   "execution_count": 161,
   "metadata": {},
   "outputs": [],
   "source": [
    "from sklearn.preprocessing  import LabelEncoder\n",
    "encoder=LabelEncoder()"
   ]
  },
  {
   "cell_type": "code",
   "execution_count": 162,
   "metadata": {},
   "outputs": [],
   "source": [
    "spam_label=encoder.fit_transform(spam_label)"
   ]
  },
  {
   "cell_type": "code",
   "execution_count": 163,
   "metadata": {},
   "outputs": [],
   "source": [
    "from sklearn.base import BaseEstimator,TransformerMixin\n",
    "from nltk.stem import SnowballStemmer"
   ]
  },
  {
   "cell_type": "code",
   "execution_count": 164,
   "metadata": {},
   "outputs": [],
   "source": [
    "from nltk.tokenize import RegexpTokenizer"
   ]
  },
  {
   "cell_type": "code",
   "execution_count": 165,
   "metadata": {},
   "outputs": [],
   "source": [
    "class Mytransformer (BaseEstimator,TransformerMixin):\n",
    "    def __init__(self):\n",
    "         self.stemmer=SnowballStemmer(language='english')\n",
    "         self.tokenizer=RegexpTokenizer(r'[a-zA-Z]+')\n",
    "        \n",
    "    def fit(self,x,y=0):\n",
    "        return x\n",
    "    \n",
    "    def transform(self,x,y=0):\n",
    "        x=x.map(lambda x: self.tokenizer.tokenize(x))\n",
    "        x=x.map(lambda x: ''.join([self.stemmer.stem(word) for word in x]))\n",
    "        return x"
   ]
  },
  {
   "cell_type": "code",
   "execution_count": 166,
   "metadata": {},
   "outputs": [],
   "source": [
    "model=Mytransformer()"
   ]
  },
  {
   "cell_type": "code",
   "execution_count": 167,
   "metadata": {},
   "outputs": [],
   "source": [
    "spam_feature=model.transform(spam_feature)"
   ]
  },
  {
   "cell_type": "code",
   "execution_count": 168,
   "metadata": {},
   "outputs": [
    {
     "data": {
      "text/plain": [
       "0       gountiljurongpointcraziavailonliinbugingreatwo...\n",
       "1                                        oklarjokewifuoni\n",
       "2       freeentriinawklicomptowinfacupfinaltktsstmayte...\n",
       "3                       udunsaysoearlihorucalreadithensay\n",
       "4           nahidontthinkhegoetousfhelivearoundherethough\n",
       "5       freemsgheytheredarlitsbeenweeksnowandnowordbac...\n",
       "6       evenmybrotherisnotliketospeakwithmetheytreatme...\n",
       "7       asperyourrequestmellmelloruminnaminungintnurun...\n",
       "8       winnerasavalunetworkcustomyouhavebeenselecttor...\n",
       "9       hadyourmobilmonthormoreurentitltoupdattothelat...\n",
       "10      imgonnabehomesoonandidontwanttotalkaboutthisst...\n",
       "11      sixchanctowincashfromtopoundtxtcshandsendtocos...\n",
       "12      urgentyouhavewonaweekfreemembershipinourprizej...\n",
       "13      ivebeensearchfortherightwordtothankyouforthisb...\n",
       "14                             ihaveadateonsundaywithwill\n",
       "15      xxxmobilemovieclubtouseyourcreditclickthewapli...\n",
       "16                                         ohkimwatchhere\n",
       "17      ehuremembhowspellhisnameyesididhevnaughtimakeu...\n",
       "18               fineifthatsthewayufeelthatsthewayitgotab\n",
       "19      englandvmacedoniadontmissthegoalteamnewstxturn...\n",
       "20                        isthatserioushowyouspellhisname\n",
       "21                          imgototriformonthhahaonlijoke\n",
       "22                    sopayfirstlarthenwhenisdastockcomin\n",
       "23      aftifinishmylunchthenigostrdownlorardsmthloruf...\n",
       "24          ffffffffffalrightnowayicanmeetupwithyousooner\n",
       "25      justforcmyselftoeatasliceimreallinothungrithot...\n",
       "26                                  lolyouralwaysoconvinc\n",
       "27      didyoucatchthebusareyoufrianeggdidyoumakeateaa...\n",
       "28      imbackampwerepackthecarnowillletyouknowifthere...\n",
       "29            ahhhworkivaguremembthatwhatdoeitfeellikelol\n",
       "                              ...                        \n",
       "5542                     armandsaygetyourassovertoepsilon\n",
       "5543                       ustillhaventgoturselfajacketah\n",
       "5544    imtakederekamptaylortowalmartifimnotbackbythet...\n",
       "5545                  hiitindurbanareyoustillonthisnumber\n",
       "5546                     ictherearealottachildporncarthen\n",
       "5547    hadyourcontractmobilmnthslatestmotorolanokiaet...\n",
       "5548                               noiwastriitallweekendv\n",
       "5549    youknowwotpeoplweartshirtjumperhatbeltisallwek...\n",
       "5550                    coolwhattimeyouthinkyoucangethere\n",
       "5551               wendidyougetsospirituanddeepthatsgreat\n",
       "5552    haveasafetriptonigeriawishyouhappiandverisoonc...\n",
       "5553                               hahahauseyourbraindear\n",
       "5554    wellkeepinmindiveonligotenoughgasforonemorerou...\n",
       "5555    yehindianwasnicethoitdidkanemeoffabitheheweshu...\n",
       "5556            yesihavesothatswhiutextpshewmissyousomuch\n",
       "5557    noimeantthecalculisthesamethatltgtunitatltgtth...\n",
       "5558                                    sorriillcalllater\n",
       "5559        ifyouarenthereinthenextltgthourimmaflipmyshit\n",
       "5560                               anythlorjuzbothofuslor\n",
       "5561      getmeoutofthisdumpheapmymomdecidtocometolowbore\n",
       "5562    oklorsoniericssonsalesmaniaskshuhuithenshesayq...\n",
       "5563                                        ardlikedatlor\n",
       "5564    whidontyouwaittilatleastwednesdaytoseeifyouget...\n",
       "5565                                              huhylei\n",
       "5566    remindfromotogetpoundfreecallcreditanddetailof...\n",
       "5567    thisisthendtimewehavetricontactuuhavewonthepou...\n",
       "5568                              willbgotoesplanadfrhome\n",
       "5569                pitiwasinmoodforthatsoaniothersuggest\n",
       "5570    theguydidsomebitchbutiactlikeidbeinterestinbuy...\n",
       "5571                                   roflittruetoitname\n",
       "Name: v2, Length: 5572, dtype: object"
      ]
     },
     "execution_count": 168,
     "metadata": {},
     "output_type": "execute_result"
    }
   ],
   "source": [
    "spam_feature"
   ]
  },
  {
   "cell_type": "code",
   "execution_count": null,
   "metadata": {},
   "outputs": [],
   "source": []
  }
 ],
 "metadata": {
  "kernelspec": {
   "display_name": "Python 3",
   "language": "python",
   "name": "python3"
  },
  "language_info": {
   "codemirror_mode": {
    "name": "ipython",
    "version": 3
   },
   "file_extension": ".py",
   "mimetype": "text/x-python",
   "name": "python",
   "nbconvert_exporter": "python",
   "pygments_lexer": "ipython3",
   "version": "3.6.8"
  }
 },
 "nbformat": 4,
 "nbformat_minor": 2
}
